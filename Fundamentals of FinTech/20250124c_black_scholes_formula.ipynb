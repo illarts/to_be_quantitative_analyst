{
 "cells": [
  {
   "cell_type": "code",
   "execution_count": 1,
   "metadata": {},
   "outputs": [],
   "source": [
    "# -*- coding: utf-8 -*-\n",
    "#%% NumPyの読み込み\n",
    "import numpy as np\n",
    "#   SciPyのstatsモジュールの読み込み\n",
    "import scipy.stats as st\n",
    "#%% Black-Scholeの公式によるヨーロピアン・コールオプション価格の計算\n",
    "S = 100.0\n",
    "K = 100.0\n",
    "r = 0.01\n",
    "v = 0.20\n",
    "T = 0.50\n",
    "d1 = (np.log(S / K) + (r + 0.5 * v ** 2) * T) / (v * np.sqrt(T))\n",
    "d2 = d1 - v * np.sqrt(T)\n",
    "BS_Formula = S * st.norm.cdf(d1) - K * np.exp(-r * T) * st.norm.cdf(d2)"
   ]
  },
  {
   "cell_type": "code",
   "execution_count": 3,
   "metadata": {},
   "outputs": [
    {
     "name": "stdout",
     "output_type": "stream",
     "text": [
      "5.876024233827607\n"
     ]
    }
   ],
   "source": [
    "print(BS_Formula)"
   ]
  }
 ],
 "metadata": {
  "kernelspec": {
   "display_name": "Python 3",
   "language": "python",
   "name": "python3"
  },
  "language_info": {
   "codemirror_mode": {
    "name": "ipython",
    "version": 3
   },
   "file_extension": ".py",
   "mimetype": "text/x-python",
   "name": "python",
   "nbconvert_exporter": "python",
   "pygments_lexer": "ipython3",
   "version": "3.11.9"
  }
 },
 "nbformat": 4,
 "nbformat_minor": 2
}
