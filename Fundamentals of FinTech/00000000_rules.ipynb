{
 "cells": [
  {
   "cell_type": "markdown",
   "metadata": {},
   "source": [
    "# GitHubへの保存\n",
    "\n",
    "- 前処理\n",
    "  - cd Python\n",
    "  - cd practice_to_be_exchange_student\n",
    "  - cd Fundamentals of FinTech\n",
    "\n",
    "\n",
    "### ファイルをリポジトリに追加\n",
    "\n",
    "- コードをコピーする\n",
    "  - git add .\n",
    "    - （カレントフォルダのすべてのファイルを追加）\n",
    "\n",
    "### コミットを作成\n",
    "\n",
    "- コードをコピーする\n",
    "  - git commit -m \"Initial commit\"\n",
    "\n",
    "### GitHubにアップロード（プッシュ）\n",
    "- コードをコピーする\n",
    "  - git push -u origin main\n",
    "    - （リポジトリが master ブランチの場合は main を master に変更）\n",
    "\n",
    "### 成功したか確認\n",
    "- GitHubのリポジトリページを開いて、アップロードされたファイルが表示されているか確認してください。\n",
    "\n"
   ]
  },
  {
   "cell_type": "markdown",
   "metadata": {},
   "source": [
    "https://github.com/illarts/practice_to_be_exchange_student"
   ]
  }
 ],
 "metadata": {
  "language_info": {
   "name": "python"
  }
 },
 "nbformat": 4,
 "nbformat_minor": 2
}
