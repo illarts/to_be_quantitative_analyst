{
 "cells": [
  {
   "cell_type": "markdown",
   "metadata": {},
   "source": [
    "**分散削減法（Variance Reduction Methods）** は、モンテカルロシミュレーションの精度を向上させるための手法で、シミュレーションの結果が得られるまでのサンプル数を減らすことを目指します。通常のモンテカルロ法では、精度を上げるために大量のサンプルを生成する必要がありますが、分散削減法を使うことで、少ないサンプル数でも結果の精度を向上させることができます。これにより、計算コストを削減しつつ、より効度高いシミュレーション結果を得ることができます。\n",
    "\n",
    "分散削減法にはいくつかの方法がありますが、代表的なものを以下に挙げます。"
   ]
  },
  {
   "cell_type": "markdown",
   "metadata": {},
   "source": [
    "# 1. 重要サンプリング（Importance Sampling）\n",
    "\n",
    "重要サンプリングは、サンプリングの確率分布を変更し、重要な部分により多くのサンプルを割り当てることで、分散を減らす手法です。モンテカルロシミュレーションでは、従来の確率分布に従ってサンプルを生成しますが、重要サンプリングでは特定の部分空間（例えば、リスクの高い部分）を強調してサンプルを生成します。\n",
    "\n",
    "- 手法の概要:\n",
    "  - 通常の確率分布に基づいてサンプルを生成する代わりに、別の「重要な」分布を用いてサンプルを生成。\n",
    "  - その後、サンプルに重みをつけて最終的な結果を算出します。この重みは、元の分布と新しい分布の比率です。\n",
    "\n",
    "- 例: 例えば、オプションの価格付けにおいて、深いITM（In The Money）オプションに対して、適切に重み付けされたサンプルを生成し、無駄な部分を減らすことができます。\n",
    "\n",
    "# 2. コントロール変数法（Control Variates）\n",
    "コントロール変数法は、シミュレーションで使用する他の関連する確率変数（コントロール変数）の期待値を知っている場合に、サンプルの偏りを減らす方法です。この方法では、既知の期待値を持つ変数を用いて、目的の変数の値を修正し、分散を減らします。\n",
    "\n",
    "- 手法の概要:\n",
    "  - コントロール変数（期待値が既知である変数）を導入し、その変数の値とターゲット変数との関係を利用して、シミュレーション結果を調整。\n",
    "  - 目的の確率変数とコントロール変数の間の共分散を最大化するように調整し、分散を減らします。\n",
    "\n",
    "- 例: オプションの価格をシミュレーションする場合、コントロール変数として株価の変動を使用することができます。コントロール変数を使うことで、価格推定の精度を向上させます。\n",
    "\n",
    "# 3. 分割法（Splitting）\n",
    "\n",
    "分割法は、シミュレーションを複数の部分に分け、それぞれで異なる方法を用いることで、全体の分散を削減する手法です。特に、珍しいイベントや低確率のイベントに関連するシミュレーションで有効です。\n",
    "\n",
    "- 手法の概要:\n",
    "  - 特定のシナリオが稀な場合、そのシナリオに特化してサンプルを生成する。\n",
    "  - 結果を「分割」して、低確率のシナリオのサンプル数を増加させ、重要な情報を得やすくする。\n",
    "\n",
    "- 例: 金融デリバティブのような複雑な商品の価格付けでは、破産のような低確率のイベントをシミュレートする場合に分割法が役立ちます。\n",
    "\n",
    "# 4. 再サンプリング（Resampling）\n",
    "再サンプリングは、サンプルデータを使って何度も繰り返しサンプリングすることで、シミュレーションの分散を削減する手法です。モンテカルロシミュレーションにおいて、サンプルの変動を減らし、精度を上げるために使います。\n",
    "\n",
    "- 手法の概要:\n",
    "  - シミュレーション結果に基づいて、再度サンプルを作り直し、そのサンプルを元にさらに多くの結果を得る。\n",
    "  - これにより、元のサンプルに含まれるばらつきを補い、シミュレーション精度を向上させます。\n",
    "\n",
    "# 5. マルコフ連鎖モンテカルロ法（MCMC）\n",
    "MCMCは、確率過程を用いてサンプリングを行う方法で、特に多次元の問題や複雑な分布に対して非常に有効です。これは、確率分布からサンプルを逐次的に生成する方法です。\n",
    "\n",
    "- 手法の概要:\n",
    "  - 一度サンプルを生成した後、そのサンプルを基に次のサンプルを生成する方法。\n",
    "  - サンプルが確率分布全体にわたって均等に広がるように調整します。\n",
    "\n",
    "## 分散削減法の利点\n",
    "- 精度の向上: 同じサンプル数で、より高い精度を得ることができます。\n",
    "- 計算コストの削減: 少ないサンプル数でも高精度な結果を得ることができるため、計算時間を短縮できます。\n",
    "- 多くの金融問題に適用可能: 複雑なオプションやデリバティブの価格付け、リスク評価、予測など、多くの金融工学の問題に適用できます。"
   ]
  },
  {
   "cell_type": "markdown",
   "metadata": {},
   "source": [
    "# 重要サンプリング（Importance Sampling）の実装\n",
    "\n",
    "重要サンプリングは、標本を選ぶ分布（提案分布）を変更し、より重要な部分に焦点を当てる方法です。これにより、サンプルの無駄を減らし、効率的にシミュレーションを行います。\n",
    "\n",
    "- 目的: 標本分布を変更し、目標分布（実際に解析したい分布）の重要な部分に対して多くのサンプルを集める。\n",
    "- 仕組み: 提案分布を目標分布に似せることで、サンプルの重みを適切に調整し、結果の精度を向上させます。\n",
    "- メリット: 少ないサンプル数で精度の高い結果を得ることができる。"
   ]
  },
  {
   "cell_type": "code",
   "execution_count": 5,
   "metadata": {},
   "outputs": [
    {
     "name": "stdout",
     "output_type": "stream",
     "text": [
      "重要サンプリングの結果: 0.00029376691997874324\n"
     ]
    }
   ],
   "source": [
    "import numpy as np\n",
    "\n",
    "# 提案分布 q(x) と目標分布 p(x)\n",
    "def importance_sampling(num_samples=10000):\n",
    "    samples = np.random.normal(0, 1, num_samples)  # q(x)として標準正規分布を仮定\n",
    "    weights = np.exp(-samples**2 / 2)  # p(x) = q(x) に基づく重み\n",
    "    weighted_mean = np.mean(samples * weights) / np.mean(weights)\n",
    "    return weighted_mean\n",
    "\n",
    "result = importance_sampling()\n",
    "print(f\"重要サンプリングの結果: {result}\")\n"
   ]
  },
  {
   "cell_type": "markdown",
   "metadata": {},
   "source": [
    "# コントロール変数法（Control Variates）の実装\n",
    "\n",
    "コントロール変数法は、既知の期待値を持つ変数を補正因子として使用し、シミュレーションの誤差を減らす方法です。すでに期待値がわかっている変数（コントロール変数）を使って、シミュレーション結果を補正します。\n",
    "\n",
    "- 目的: コントロール変数（既知の期待値がある変数）を使ってシミュレーションの分散を減らし、精度を高める。\n",
    "- 仕組み: コントロール変数とシミュレーション対象の変数との相関を利用して補正を行います。\n",
    "- メリット: サンプル数を増やさなくても精度が高くなる場合があります。"
   ]
  },
  {
   "cell_type": "code",
   "execution_count": 7,
   "metadata": {},
   "outputs": [
    {
     "name": "stdout",
     "output_type": "stream",
     "text": [
      "コントロール変数法の結果: -0.010745964638637232\n"
     ]
    }
   ],
   "source": [
    "def control_variates(num_samples=10000):\n",
    "    # 目標変数 (X) とコントロール変数 (Y) の生成\n",
    "    X = np.random.normal(0, 1, num_samples)  # 目標変数\n",
    "    Y = np.random.normal(0, 1, num_samples)  # コントロール変数\n",
    "    \n",
    "    # コントロール変数の期待値 (既知)\n",
    "    expected_Y = 0\n",
    "    \n",
    "    # X と Y の共分散\n",
    "    covariance = np.cov(X, Y)[0, 1]\n",
    "    variance_Y = np.var(Y)\n",
    "    \n",
    "    # 補正\n",
    "    correction_factor = covariance / variance_Y\n",
    "    adjusted_X = X - correction_factor * (Y - expected_Y)\n",
    "    \n",
    "    # 補正後の推定値\n",
    "    adjusted_mean = np.mean(adjusted_X)\n",
    "    return adjusted_mean\n",
    "\n",
    "result = control_variates()\n",
    "print(f\"コントロール変数法の結果: {result}\")\n"
   ]
  },
  {
   "cell_type": "markdown",
   "metadata": {},
   "source": [
    "# 繰り返し法（Antithetic Variates）\n",
    "\n",
    "繰り返し法は、同じ確率過程に基づく二つの逆相関を持つサンプルを使って、シミュレーションの分散を減少させる手法です。\n",
    "\n",
    "- 目的: 確率過程のサンプルが互いに逆相関（antithetic）を持つようにして、シミュレーションの分散を削減する。\n",
    "- 仕組み: 一つのサンプルを生成した後、その逆のサンプルを生成することで、全体の誤差を低減します。\n",
    "- メリット: 計算量をあまり増やすことなく、精度を向上させることができる。"
   ]
  },
  {
   "cell_type": "code",
   "execution_count": 9,
   "metadata": {},
   "outputs": [
    {
     "name": "stdout",
     "output_type": "stream",
     "text": [
      "繰り返し法の結果: 7.105427357601002e-19\n"
     ]
    }
   ],
   "source": [
    "def antithetic_variates(num_samples=10000):\n",
    "    # 初期サンプルを生成\n",
    "    samples = np.random.normal(0, 1, num_samples // 2)\n",
    "    \n",
    "    # 逆のサンプルも生成\n",
    "    antithetic_samples = -samples\n",
    "    \n",
    "    # サンプルを合わせて平均を計算\n",
    "    all_samples = np.concatenate((samples, antithetic_samples))\n",
    "    mean_estimate = np.mean(all_samples)\n",
    "    return mean_estimate\n",
    "\n",
    "result = antithetic_variates()\n",
    "print(f\"繰り返し法の結果: {result}\")\n"
   ]
  },
  {
   "cell_type": "markdown",
   "metadata": {},
   "source": [
    "# 配置法（Stratified Sampling）\n",
    "\n",
    "配置法は、サンプル空間を**層（strata）**に分け、各層からランダムにサンプルを取る方法です。これにより、シミュレーションがより均等に分布するため、精度が向上します。\n",
    "\n",
    "- 目的: サンプル空間を均等に分割し、各分割からサンプルを取ることで、効率的にシミュレーションを行う。\n",
    "- 仕組み: サンプル空間を複数の層に分け、各層ごとにサンプルを抽出して平均を取る。\n",
    "- メリット: すべての領域から適切にサンプルを取るため、分散が低くなる。"
   ]
  },
  {
   "cell_type": "code",
   "execution_count": 10,
   "metadata": {},
   "outputs": [
    {
     "name": "stdout",
     "output_type": "stream",
     "text": [
      "配置法の結果: 0.5003383845566071\n"
     ]
    }
   ],
   "source": [
    "def stratified_sampling(num_samples=10000):\n",
    "    strata_count = 10  # サンプル空間を10層に分ける\n",
    "    strata_size = num_samples // strata_count\n",
    "    samples = []\n",
    "    \n",
    "    for i in range(strata_count):\n",
    "        # 各層の範囲を設定し、その範囲内でサンプルを生成\n",
    "        lower_bound = i / strata_count\n",
    "        upper_bound = (i + 1) / strata_count\n",
    "        stratum_samples = np.random.uniform(lower_bound, upper_bound, strata_size)\n",
    "        samples.extend(stratum_samples)\n",
    "    \n",
    "    # 最終的なサンプルの平均を取る\n",
    "    mean_estimate = np.mean(samples)\n",
    "    return mean_estimate\n",
    "\n",
    "result = stratified_sampling()\n",
    "print(f\"配置法の結果: {result}\")\n"
   ]
  },
  {
   "cell_type": "code",
   "execution_count": 13,
   "metadata": {},
   "outputs": [
    {
     "name": "stdout",
     "output_type": "stream",
     "text": [
      "ブラックショールズによる理論価格: 10.45\n",
      "モンテカルロシミュレーションによるオプション価格: 10.45\n",
      "分散削減法（コントロール変数法）によるオプション価格: 10.45\n",
      "ブラックショールズ理論価格とモンテカルロの差: 0.00\n",
      "ブラックショールズ理論価格と分散削減法の差: 0.00\n"
     ]
    },
    {
     "data": {
      "image/png": "[encoded data removed]",
      "text/plain": [
       "<Figure size 640x480 with 1 Axes>"
      ]
     },
     "metadata": {},
     "output_type": "display_data"
    }
   ],
   "source": [
    "import numpy as np\n",
    "import scipy.stats as stats\n",
    "import matplotlib.pyplot as plt\n",
    "\n",
    "# ブラックショールズ方程式\n",
    "def black_scholes_call(S0, K, r, T, sigma):\n",
    "    d1 = (np.log(S0 / K) + (r + 0.5 * sigma**2) * T) / (sigma * np.sqrt(T))\n",
    "    d2 = d1 - sigma * np.sqrt(T)\n",
    "    C = S0 * stats.norm.cdf(d1) - K * np.exp(-r * T) * stats.norm.cdf(d2)\n",
    "    return C\n",
    "\n",
    "# モンテカルロシミュレーションによるオプション価格計算\n",
    "def monte_carlo_call(S0, K, r, T, sigma, num_simulations):\n",
    "    np.random.seed(42)\n",
    "    ST = S0 * np.exp((r - 0.5 * sigma**2) * T + sigma * np.sqrt(T) * np.random.normal(size=num_simulations))\n",
    "    payoffs = np.maximum(ST - K, 0)  # コールオプションのペイオフ\n",
    "    return np.exp(-r * T) * np.mean(payoffs)  # 割引後の平均ペイオフ\n",
    "\n",
    "# 分散削減法（コントロール変数法）の適用\n",
    "def control_variate_monte_carlo_call(S0, K, r, T, sigma, num_simulations):\n",
    "    np.random.seed(42)\n",
    "    \n",
    "    # コントロール変数としてブラックショールズ理論価格を使う\n",
    "    C_theoretical = black_scholes_call(S0, K, r, T, sigma)\n",
    "    \n",
    "    # 最終株価のシミュレーション\n",
    "    ST = S0 * np.exp((r - 0.5 * sigma**2) * T + sigma * np.sqrt(T) * np.random.normal(size=num_simulations))\n",
    "    payoffs = np.maximum(ST - K, 0)\n",
    "    \n",
    "    # コントロール変数の調整\n",
    "    control_variate = np.exp(-r * T) * np.mean(payoffs) - C_theoretical\n",
    "    return C_theoretical + control_variate\n",
    "\n",
    "# パラメータ設定\n",
    "S0 = 100    # 現在の株価\n",
    "K = 100     # 行使価格\n",
    "r = 0.05    # リスクフリーレート\n",
    "T = 1       # 残存期間（1年）\n",
    "sigma = 0.2 # ボラティリティ\n",
    "num_simulations = 10000  # シミュレーションの回数\n",
    "\n",
    "# ブラックショールズ理論価格\n",
    "C_bs = black_scholes_call(S0, K, r, T, sigma)\n",
    "print(f\"ブラックショールズによる理論価格: {C_bs:.2f}\")\n",
    "\n",
    "# モンテカルロシミュレーション\n",
    "C_mc = monte_carlo_call(S0, K, r, T, sigma, num_simulations)\n",
    "print(f\"モンテカルロシミュレーションによるオプション価格: {C_mc:.2f}\")\n",
    "\n",
    "# 分散削減法（コントロール変数法）\n",
    "C_cv = control_variate_monte_carlo_call(S0, K, r, T, sigma, num_simulations)\n",
    "print(f\"分散削減法（コントロール変数法）によるオプション価格: {C_cv:.2f}\")\n",
    "\n",
    "# 結果の比較\n",
    "print(f\"ブラックショールズ理論価格とモンテカルロの差: {C_bs - C_mc:.2f}\")\n",
    "print(f\"ブラックショールズ理論価格と分散削減法の差: {C_bs - C_cv:.2f}\")\n",
    "\n",
    "# 結果の可視化（オプション価格の分布）\n",
    "payoffs_mc = np.maximum(S0 * np.exp((r - 0.5 * sigma**2) * T + sigma * np.sqrt(T) * np.random.normal(size=num_simulations)) - K, 0)\n",
    "payoffs_cv = np.maximum(S0 * np.exp((r - 0.5 * sigma**2) * T + sigma * np.sqrt(T) * np.random.normal(size=num_simulations)) - K, 0)\n",
    "\n",
    "plt.hist(payoffs_mc, bins=50, alpha=0.5, label='Monte Carlo (no variance reduction)', color='blue')\n",
    "plt.hist(payoffs_cv, bins=50, alpha=0.5, label='Control Variate (variance reduction)', color='green')\n",
    "plt.axvline(x=np.mean(payoffs_mc), color='blue', linestyle='dashed', label=f'MC mean: {np.mean(payoffs_mc):.2f}')\n",
    "plt.axvline(x=np.mean(payoffs_cv), color='green', linestyle='dashed', label=f'CV mean: {np.mean(payoffs_cv):.2f}')\n",
    "plt.legend()\n",
    "plt.show()\n"
   ]
  },
  {
   "cell_type": "markdown",
   "metadata": {},
   "source": [
    "分散削減法の結果が「良い」かどうかを評価する際の基準は、主に次の点を考慮します：\n",
    "\n",
    "1. 分散の削減\n",
    "\n",
    "分散削減法の主な目的は、シミュレーション結果の分散を小さくすることです。分散が小さければ、シミュレーション結果がより安定し、予測精度が高くなります。\n",
    "\n",
    "- 理想的な結果: 分散が元のシミュレーションと比べて大幅に減少していれば、その分散削減法は効果的であるといえます。たとえば、元の分散が1000だったのに対して、分散削減法を適用後に100以下に減少した場合、それは非常に成功した結果です。\n",
    "- 不十分な結果: 分散削減法を適用しても、分散があまり減少しない場合は、その手法が適切でないか、適切なパラメータ設定がされていない可能性があります。\n",
    "\n",
    "2. 計算精度\n",
    "\n",
    "分散削減法を適用した後に得られる平均値や期待値の推定が、理論的に期待される値にどれくらい近いかも重要です。\n",
    "\n",
    "- 理想的な結果: 得られた推定値（平均値や期待値）が理論的な期待値や実際の値と非常に近い場合、それは非常に精度の高いシミュレーション結果です。\n",
    "  - 例: 実際の理論的期待値が100であり、シミュレーション結果が99.8や100.1であれば、このシミュレーションは精度が高いと判断できます。\n",
    "- 不十分な結果: 推定値が理論的期待値から大きく外れている場合、そのシミュレーションは誤差が大きいと言えます。\n",
    "\n",
    "3. 計算コストの低減\n",
    "\n",
    "分散削減法が成功すると、シミュレーションの計算コスト（サンプル数や実行時間）が低減することが期待されます。特に、同じ精度を保ちながら、より少ないサンプル数で結果を得られる場合、その手法は効率的であると言えます。\n",
    "\n",
    "- 理想的な結果: サンプル数を減らしても、結果の精度が維持されるか、さらに向上する場合。そのため、計算時間やメモリ消費が削減され、より効率的に結果が得られる。\n",
    "- 不十分な結果: サンプル数を減らしても結果の精度が低下する場合や、分散削減法を使っても計算時間が大幅に増加する場合。\n",
    "\n",
    "4. サンプル数に対する収束の速さ\n",
    "\n",
    "分散削減法を使うことで、少ないサンプル数でより良い結果が得られることが理想です。収束速度が速い場合、シミュレーションを繰り返す回数が少なくて済むため、効率的です。\n",
    "\n",
    "- 理想的な結果: 少ないサンプルで結果が早く収束し、期待される精度が得られる。\n",
    "- 不十分な結果: サンプル数が多くないと十分に収束せず、精度が悪化する場合。"
   ]
  },
  {
   "cell_type": "markdown",
   "metadata": {},
   "source": [
    "## 分散が減少しているか？"
   ]
  },
  {
   "cell_type": "code",
   "execution_count": null,
   "metadata": {},
   "outputs": [
    {
     "name": "stdout",
     "output_type": "stream",
     "text": [
      "モンテカルロシミュレーションの分散: 244.92\n",
      "分散削減法（コントロール変数法）の分散: 230.22\n"
     ]
    }
   ],
   "source": [
    "var_mc = np.var(payoffs_mc)\n",
    "var_cv = np.var(payoffs_cv)\n",
    "print(f\"モンテカルロシミュレーションの分散: {var_mc:.2f}\")\n",
    "print(f\"分散削減法（コントロール変数法）の分散: {var_cv:.2f}\")\n"
   ]
  },
  {
   "cell_type": "markdown",
   "metadata": {},
   "source": [
    "## 期待値が理論値に近いか？"
   ]
  },
  {
   "cell_type": "code",
   "execution_count": 15,
   "metadata": {},
   "outputs": [
    {
     "name": "stdout",
     "output_type": "stream",
     "text": [
      "ブラックショールズ理論価格: 10.45\n",
      "モンテカルロシミュレーションによるオプション価格: 10.45\n",
      "分散削減法（コントロール変数法）によるオプション価格: 10.45\n"
     ]
    }
   ],
   "source": [
    "print(f\"ブラックショールズ理論価格: {C_bs:.2f}\")\n",
    "print(f\"モンテカルロシミュレーションによるオプション価格: {C_mc:.2f}\")\n",
    "print(f\"分散削減法（コントロール変数法）によるオプション価格: {C_cv:.2f}\")\n"
   ]
  },
  {
   "cell_type": "markdown",
   "metadata": {},
   "source": [
    "## 計算コストが削減され、計算効率が向上しているか？"
   ]
  },
  {
   "cell_type": "code",
   "execution_count": 17,
   "metadata": {},
   "outputs": [
    {
     "name": "stdout",
     "output_type": "stream",
     "text": [
      "モンテカルロシミュレーションの計算時間: 0.0000秒\n",
      "分散削減法（コントロール変数法）の計算時間: 0.0194秒\n"
     ]
    }
   ],
   "source": [
    "import time\n",
    "\n",
    "# モンテカルロシミュレーションの計算時間\n",
    "start_time = time.time()\n",
    "C_mc = monte_carlo_call(S0, K, r, T, sigma, num_simulations)\n",
    "end_time = time.time()\n",
    "mc_time = end_time - start_time\n",
    "\n",
    "# 分散削減法の計算時間\n",
    "start_time = time.time()\n",
    "C_cv = control_variate_monte_carlo_call(S0, K, r, T, sigma, num_simulations)\n",
    "end_time = time.time()\n",
    "cv_time = end_time - start_time\n",
    "\n",
    "print(f\"モンテカルロシミュレーションの計算時間: {mc_time:.4f}秒\")\n",
    "print(f\"分散削減法（コントロール変数法）の計算時間: {cv_time:.4f}秒\")\n"
   ]
  },
  {
   "cell_type": "markdown",
   "metadata": {},
   "source": [
    "## サンプル数が少なくても精度が保たれ、収束が速いか？"
   ]
  },
  {
   "cell_type": "code",
   "execution_count": 18,
   "metadata": {},
   "outputs": [
    {
     "name": "stdout",
     "output_type": "stream",
     "text": [
      "モンテカルロシミュレーション（サンプル数1000）: 10.52\n",
      "分散削減法（サンプル数1000）: 10.52\n"
     ]
    }
   ],
   "source": [
    "num_simulations_small = 1000\n",
    "\n",
    "# モンテカルロシミュレーション（サンプル数1000）\n",
    "C_mc_small = monte_carlo_call(S0, K, r, T, sigma, num_simulations_small)\n",
    "print(f\"モンテカルロシミュレーション（サンプル数1000）: {C_mc_small:.2f}\")\n",
    "\n",
    "# 分散削減法（コントロール変数法）（サンプル数1000）\n",
    "C_cv_small = control_variate_monte_carlo_call(S0, K, r, T, sigma, num_simulations_small)\n",
    "print(f\"分散削減法（サンプル数1000）: {C_cv_small:.2f}\")\n"
   ]
  }
 ],
 "metadata": {
  "kernelspec": {
   "display_name": "Python 3",
   "language": "python",
   "name": "python3"
  },
  "language_info": {
   "codemirror_mode": {
    "name": "ipython",
    "version": 3
   },
   "file_extension": ".py",
   "mimetype": "text/x-python",
   "name": "python",
   "nbconvert_exporter": "python",
   "pygments_lexer": "ipython3",
   "version": "3.11.9"
  }
 },
 "nbformat": 4,
 "nbformat_minor": 2
}
