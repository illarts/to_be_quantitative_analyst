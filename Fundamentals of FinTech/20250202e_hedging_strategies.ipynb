{
 "cells": [
  {
   "cell_type": "markdown",
   "metadata": {},
   "source": [
    "# ヘッジング戦略\n",
    "\n",
    "オプションを使ってリスクを管理するための重要な技術です。\n",
    "\n",
    "リスクヘッジは金融市場で非常に重要な役割を果たしており、ポートフォリオの価値が急激に変動するリスクを減少させるために使用されます。\n",
    "\n",
    "オプション取引におけるヘッジング戦略について、以下のような基本的な戦略を学ぶことができます。"
   ]
  },
  {
   "cell_type": "markdown",
   "metadata": {},
   "source": [
    "1. デルタヘッジ\n",
    "\n",
    "デルタヘッジは、最も基本的で広く使用されているヘッジ戦略の一つです。この戦略は、**オプションのデルタ（基礎資産の価格変動に対するオプション価格の感度）** を計算し、それに基づいて基礎資産を買ったり売ったりすることで、オプションポジションのリスクを相殺します。\n",
    "\n",
    "2. デルタヘッジの基本的な考え方\n",
    "\n",
    "デルタ (Δ) は、**オプションの価格変動が基礎資産の価格変動にどれだけ敏感であるか**を表します。デルタが1の場合、オプションの価格は基礎資産の価格変動と同じ割合で変動します。\n",
    "デルタヘッジでは、オプションポジションを持っている場合、そのデルタ値に基づいて、基礎資産を売買することでリスクを減少させます。\n",
    "\n",
    "例：デルタが0.5のコールオプションを100株購入している場合、基礎資産（株式）を50株（100株×0.5）売ることで、価格変動の影響を相殺します。\n",
    "\n",
    "3. デルタヘッジの実践\n",
    "\n",
    "オプションのデルタは市場の変動に応じて常に変化します。そのため、デルタヘッジを継続的に調整する必要があります（これを「ダイナミックヘッジ」と呼ぶ）。\n",
    "\n",
    "たとえば、株価が上昇するとデルタが増加するため、追加のヘッジが必要になります。\n"
   ]
  },
  {
   "cell_type": "code",
   "execution_count": 2,
   "metadata": {},
   "outputs": [
    {
     "name": "stdout",
     "output_type": "stream",
     "text": [
      "デルタ値: 0.5399635456230846\n",
      "ヘッジサイズ: 53.996354562308454株\n"
     ]
    }
   ],
   "source": [
    "import numpy as np\n",
    "import scipy.stats as stats\n",
    "\n",
    "# ブラックショールズモデルでデルタ計算\n",
    "def black_scholes_delta(S, K, T, r, sigma, option_type='call'):\n",
    "    d1 = (np.log(S / K) + (r + 0.5 * sigma**2) * T) / (sigma * np.sqrt(T))\n",
    "    if option_type == 'call':\n",
    "        return stats.norm.cdf(d1)\n",
    "    elif option_type == 'put':\n",
    "        return stats.norm.cdf(d1) - 1\n",
    "    else:\n",
    "        raise ValueError(\"Option type must be 'call' or 'put'.\")\n",
    "\n",
    "# パラメータ設定\n",
    "S = 100  # 現在の株価\n",
    "K = 100  # 行使価格\n",
    "T = 30 / 365  # 満期までの日数\n",
    "r = 0.05  # 無リスク金利\n",
    "sigma = 0.2  # ボラティリティ\n",
    "\n",
    "# デルタの計算\n",
    "delta = black_scholes_delta(S, K, T, r, sigma, option_type='call')\n",
    "print(f\"デルタ値: {delta}\")\n",
    "\n",
    "# 例: デルタヘッジに基づき基礎資産を購入\n",
    "# 例えば、オプション100単位のポジションを取ると、基礎資産をデルタ分だけ購入する\n",
    "position_size = 100\n",
    "hedge_size = position_size * delta\n",
    "print(f\"ヘッジサイズ: {hedge_size}株\")\n"
   ]
  },
  {
   "cell_type": "markdown",
   "metadata": {},
   "source": [
    "1. ガンマヘッジ\n",
    "\n",
    "ガンマヘッジは、**デルタの変化に基づくリスクを管理する戦略**です。オプションのデルタは基礎資産の価格変動に応じて変動しますが、このデルタの変動を管理するためにガンマ（デルタの変化率）を利用します。\n",
    "\n",
    "2. ガンマの概念\n",
    "\n",
    "ガンマ (Γ) は、オプションのデルタが基礎資産の価格変動に対してどれだけ変動するかを示します。\n",
    "\n",
    "高いガンマを持つオプションは、基礎資産の価格変動に対して敏感であり、そのデルタは大きく変動する可能性があるため、これに対するヘッジが必要です。\n",
    "\n",
    "3. ガンマヘッジの実践\n",
    "\n",
    "ガンマヘッジは、デルタが不安定である状況（例えば、短期オプションや価格変動が大きい場合）で使用されます。\n",
    "\n",
    "具体的には、オプションポジションを持つとき、ガンマをヘッジするためにさらにオプションポジションを取ることが考えられます。例えば、デルタが変化するのを見越して、別のオプションを購入してガンマリスクを管理することができます。"
   ]
  },
  {
   "cell_type": "code",
   "execution_count": 3,
   "metadata": {},
   "outputs": [
    {
     "name": "stdout",
     "output_type": "stream",
     "text": [
      "ガンマ値: 0.06922764046846869\n",
      "追加ポジション: 692.2764046846869\n"
     ]
    }
   ],
   "source": [
    "# ブラックショールズモデルでガンマ計算\n",
    "def black_scholes_gamma(S, K, T, r, sigma):\n",
    "    d1 = (np.log(S / K) + (r + 0.5 * sigma**2) * T) / (sigma * np.sqrt(T))\n",
    "    d2 = d1 - sigma * np.sqrt(T)\n",
    "    return stats.norm.pdf(d1) / (S * sigma * np.sqrt(T))\n",
    "\n",
    "# ガンマの計算\n",
    "gamma = black_scholes_gamma(S, K, T, r, sigma)\n",
    "print(f\"ガンマ値: {gamma}\")\n",
    "\n",
    "# ガンマヘッジ\n",
    "# 追加で取るべきオプションポジションを計算\n",
    "additional_position = gamma * position_size**2  # ガンマヘッジにはオプションのポジションサイズの2乗に比例する\n",
    "print(f\"追加ポジション: {additional_position}\")\n"
   ]
  },
  {
   "cell_type": "markdown",
   "metadata": {},
   "source": [
    "1. セータヘッジ\n",
    "\n",
    "セータヘッジは、**オプションの価値が時間の経過とともにどのように変動するかを管理するための戦略**です。オプションの価値は、時間が経過するにつれて減少するため、これを考慮したヘッジ戦略を取ることが重要です。\n",
    "\n",
    "2. セータの概念\n",
    "\n",
    "セータ (Θ) は、オプションの価格が時間の経過に伴ってどれだけ減少するかを示します。\n",
    "セータが負の値の場合、オプションは時間の経過とともに価値が減少し、これにより売りオプション（ショートポジション）を取ることで利益を得ることができます。\n",
    "\n",
    "3. セータヘッジの実践\n",
    "\n",
    "長期オプションポジションを持つ場合、時間の経過による価値減少（タイムデケイ）に対するヘッジが必要です。\n",
    "例えば、ショートポジションを取ることで、タイムデケイの影響を反対に利用することができます。\n"
   ]
  },
  {
   "cell_type": "code",
   "execution_count": 4,
   "metadata": {},
   "outputs": [
    {
     "name": "stdout",
     "output_type": "stream",
     "text": [
      "セータ値: -16.420676980838977\n",
      "セータ調整によるポジション変更: 1642.0676980838975\n"
     ]
    }
   ],
   "source": [
    "# ブラックショールズモデルでセータ計算\n",
    "def black_scholes_theta(S, K, T, r, sigma, option_type='call'):\n",
    "    d1 = (np.log(S / K) + (r + 0.5 * sigma**2) * T) / (sigma * np.sqrt(T))\n",
    "    d2 = d1 - sigma * np.sqrt(T)\n",
    "    \n",
    "    if option_type == 'call':\n",
    "        theta = (-S * stats.norm.pdf(d1) * sigma) / (2 * np.sqrt(T)) - r * K * np.exp(-r * T) * stats.norm.cdf(d2)\n",
    "    elif option_type == 'put':\n",
    "        theta = (-S * stats.norm.pdf(d1) * sigma) / (2 * np.sqrt(T)) + r * K * np.exp(-r * T) * stats.norm.cdf(-d2)\n",
    "    else:\n",
    "        raise ValueError(\"Option type must be 'call' or 'put'.\")\n",
    "    \n",
    "    return theta\n",
    "\n",
    "# セータの計算\n",
    "theta = black_scholes_theta(S, K, T, r, sigma, option_type='call')\n",
    "print(f\"セータ値: {theta}\")\n",
    "\n",
    "# セータヘッジ\n",
    "# 時間経過に伴うオプションの価値減少リスクをヘッジするため、ポジションを調整\n",
    "hedge_adjustment = -theta * position_size  # ポジション調整\n",
    "print(f\"セータ調整によるポジション変更: {hedge_adjustment}\")\n"
   ]
  },
  {
   "cell_type": "markdown",
   "metadata": {},
   "source": [
    "1. ベガヘッジ\n",
    "\n",
    "ベガヘッジは、**オプションの価値がボラティリティ（価格の変動幅）の変動に対してどれだけ感度があるかを管理する戦略**です。\n",
    "\n",
    "2. ベガの概念\n",
    "\n",
    "ベガ (ν) は、オプションの価格がボラティリティの変動に対してどれだけ影響を受けるかを示します。\n",
    "\n",
    "高いボラティリティを持つ市場では、オプションの価格は高くなるため、これに対して適切にヘッジを行う必要があります。\n",
    "\n",
    "3. ベガヘッジの実践\n",
    "\n",
    "ボラティリティの予測が難しい場合、ベガヘッジを使ってオプションポジションのリスクを管理します。\n",
    "\n",
    "例えば、ボラティリティが増加すると予想される場合、ロングオプションポジションを取って、ボラティリティの上昇に備えることができます。"
   ]
  },
  {
   "cell_type": "code",
   "execution_count": 5,
   "metadata": {},
   "outputs": [
    {
     "name": "stdout",
     "output_type": "stream",
     "text": [
      "ベガ値: 11.379886104405811\n",
      "ベガ調整によるポジション変更: -1137.9886104405812\n"
     ]
    }
   ],
   "source": [
    "# ブラックショールズモデルでベガ計算\n",
    "def black_scholes_vega(S, K, T, r, sigma):\n",
    "    d1 = (np.log(S / K) + (r + 0.5 * sigma**2) * T) / (sigma * np.sqrt(T))\n",
    "    return S * np.sqrt(T) * stats.norm.pdf(d1)\n",
    "\n",
    "# ベガの計算\n",
    "vega = black_scholes_vega(S, K, T, r, sigma)\n",
    "print(f\"ベガ値: {vega}\")\n",
    "\n",
    "# ベガヘッジ\n",
    "# ボラティリティの変動に備え、適切なオプションポジションを調整\n",
    "vega_hedge = -vega * position_size  # ボラティリティの変動リスクを抑えるために調整\n",
    "print(f\"ベガ調整によるポジション変更: {vega_hedge}\")\n"
   ]
  },
  {
   "cell_type": "markdown",
   "metadata": {},
   "source": [
    "# リバランスとダイナミックヘッジ\n",
    "多くのヘッジ戦略では、ポジションを定期的にリバランスしてダイナミックヘッジを行います。市場が変動すると、オプションのデルタやガンマ、セータ、ベガなどの値も変わるため、これに応じてヘッジを調整する必要があります。\n",
    "\n",
    "# ダイナミックヘッジの実践\n",
    "継続的に市場の動きを監視し、オプションポジションを再調整してリスクを最小化します。\n",
    "例えば、基礎資産の価格が大きく変動した場合、デルタヘッジを再調整してリスクを管理します。"
   ]
  }
 ],
 "metadata": {
  "kernelspec": {
   "display_name": "Python 3",
   "language": "python",
   "name": "python3"
  },
  "language_info": {
   "codemirror_mode": {
    "name": "ipython",
    "version": 3
   },
   "file_extension": ".py",
   "mimetype": "text/x-python",
   "name": "python",
   "nbconvert_exporter": "python",
   "pygments_lexer": "ipython3",
   "version": "3.11.9"
  }
 },
 "nbformat": 4,
 "nbformat_minor": 2
}
