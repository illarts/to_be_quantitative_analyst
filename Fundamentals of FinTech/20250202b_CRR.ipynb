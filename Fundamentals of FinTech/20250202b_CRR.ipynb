{
 "cells": [
  {
   "cell_type": "markdown",
   "metadata": {},
   "source": [
    "2項モデル（二項格子モデル）は、オプション価格付けの基本的な手法であり、マルチンゲール測度（リスク中立確率）を考慮することで、リスク中立確率のもとでの価格付けが可能になります。\n",
    "\n",
    "以下のPythonコードでは、CRR（Cox-Ross-Rubinstein）二項モデルを構築し、マルチンゲール測度を用いてオプションの価格を計算します。"
   ]
  },
  {
   "cell_type": "code",
   "execution_count": 7,
   "metadata": {},
   "outputs": [
    {
     "name": "stdout",
     "output_type": "stream",
     "text": [
      "American Put Option Price: 50.0000\n",
      "European Put Option Price: 43.0347\n"
     ]
    }
   ],
   "source": [
    "import numpy as np\n",
    "\n",
    "def binomial_option_pricing(S0, K, T, r, sigma, N, option_type, american):\n",
    "    dt = T / N  # 各ステップの時間間隔\n",
    "    u = np.exp(sigma * np.sqrt(dt))  # 上昇率\n",
    "    d = 1 / u  # 下降率\n",
    "    p_rn = (np.exp(r * dt) - d) / (u - d)  # リスク中立確率\n",
    "    \n",
    "    # 株価のツリーを作成\n",
    "    stock_tree = np.zeros((N + 1, N + 1))\n",
    "    for i in range(N + 1):\n",
    "        for j in range(i + 1):\n",
    "            stock_tree[j, i] = S0 * (u ** (i - j)) * (d ** j)\n",
    "    \n",
    "    # オプション価値のツリーを作成\n",
    "    option_tree = np.zeros((N + 1, N + 1))\n",
    "    if option_type == \"call\":\n",
    "        option_tree[:, N] = np.maximum(stock_tree[:, N] - K, 0)\n",
    "    elif option_type == \"put\":\n",
    "        option_tree[:, N] = np.maximum(K - stock_tree[:, N], 0)\n",
    "    \n",
    "    # バックワード・インダクションによる価格計算\n",
    "    for i in range(N - 1, -1, -1):\n",
    "        for j in range(i + 1):\n",
    "            discounted_value = np.exp(-r * dt) * (p_rn * option_tree[j, i + 1] + (1 - p_rn) * option_tree[j + 1, i + 1])\n",
    "            if american:\n",
    "                if option_type == \"call\":\n",
    "                    exercise_value = np.maximum(stock_tree[j, i] - K, 0)\n",
    "                else:  # put option\n",
    "                    exercise_value = np.maximum(K - stock_tree[j, i], 0)\n",
    "                option_tree[j, i] = np.maximum(discounted_value, exercise_value)\n",
    "            else:\n",
    "                option_tree[j, i] = discounted_value\n",
    "    \n",
    "    return option_tree[0, 0]\n",
    "\n",
    "# パラメータ設定\n",
    "S0 = 100   # 初期株価\n",
    "K = 150    # 権利行使価格\n",
    "T = 1      # 満期（年）\n",
    "r = 0.05   # リスクフリーレート\n",
    "sigma = 0.2  # ボラティリティ\n",
    "N = 100    # 時間ステップ数\n",
    "\n",
    "# コールオプションの価格を計算（アメリカンオプション）\n",
    "american_put_price = binomial_option_pricing(S0, K, T, r, sigma, N, option_type=\"put\", american=True)\n",
    "print(f\"American Put Option Price: {american_put_price:.4f}\")\n",
    "\n",
    "# コールオプションの価格を計算（ヨーロピアンオプション）\n",
    "european_put_price = binomial_option_pricing(S0, K, T, r, sigma, N, option_type=\"put\", american=False)\n",
    "print(f\"European Put Option Price: {european_put_price:.4f}\")\n"
   ]
  },
  {
   "cell_type": "markdown",
   "metadata": {},
   "source": [
    "このコードは、マルチンゲール測度（リスク中立確率）を考慮してヨーロピアン・コールオプションの価格を計算するものです。p_rn はリスク中立確率として計算され、各ノードでのオプション価値を後ろ向きに伝播することで、初期時点でのオプション価格を求めます。\n",
    "\n",
    "このモデルをカスタマイズしたい場合は、条件やオプションの種類（アメリカンオプションなど）を拡張できます。"
   ]
  },
  {
   "cell_type": "markdown",
   "metadata": {},
   "source": [
    "✅ 理論価格の算出\n",
    "\n",
    "指定したパラメータ（$S_0$, $K$, $T$, $r$, $\\sigma$,N）に基づいて、リスク中立確率のもとでオプションの理論価格を計算します。\n",
    "これはブラック・ショールズモデルと同様に、アービトラージのない市場を前提としています。\n",
    "\n",
    "✅ マルチンゲール性の考慮\n",
    "\n",
    "リスク中立確率を計算し、それに基づいて価格をバックワード・インダクションで求めています。\n",
    "これにより、マルチンゲール測度のもとでの価格付けが実装されています。"
   ]
  },
  {
   "cell_type": "markdown",
   "metadata": {},
   "source": [
    "# 何ができないのか？\n",
    "❌ 市場の実際の価格が適正かどうかの判断\n",
    "\n",
    "このコードは理論価格を計算するだけであり、実際の市場価格と比較する部分はありません。\n",
    "実際の市場データ（市場でのオプション価格やヒストリカルボラティリティ）を取得して比較する必要があります。\n",
    "❌ ボラティリティの推定\n",
    "\n",
    "インプライド・ボラティリティ（IV）の算出はしていません。\n",
    "実際の市場価格がわかっている場合、数値的にIVを求めて適正価格をチェックすることが可能です（ニュートン法などを使用）。"
   ]
  },
  {
   "cell_type": "markdown",
   "metadata": {},
   "source": [
    "# 市場価格と比較するには？\n",
    "\n",
    "理論価格と市場価格を比較することで、オプションが割高か割安かを分析できます。\n",
    "\n",
    "例えば、市場価格を取得（APIやデータソースから）理論価格と比較\n",
    "\n",
    "- 市場価格 > 理論価格 → 割高（売り戦略を検討）\n",
    "- 市場価格 < 理論価格 → 割安（買い戦略を検討）\n",
    " \n",
    "このような分析を加えると、実際に市場で使える戦略が立てられます。"
   ]
  },
  {
   "cell_type": "markdown",
   "metadata": {},
   "source": [
    "# 仕様変更"
   ]
  },
  {
   "cell_type": "markdown",
   "metadata": {},
   "source": [
    "### アメリカンオプションの早期行使判定を追加\n",
    "\n",
    "american という引数を追加し、アメリカンオプションの場合のみ 早期行使を考慮するようにした。\n",
    "\n",
    "価格更新時に 「継続価値」 vs 「早期行使価値」 を比較し、大きい方を選択することで早期行使を可能にした。\n",
    "\n",
    "デフォルトではヨーロピアンオプションを計算し、アメリカンオプションを使いたいときは american=True にする仕様に変更。\n",
    "\n",
    "✅ 効果: 柔軟にヨーロピアン・アメリカン両方のオプションを計算できるようになった。"
   ]
  },
  {
   "cell_type": "markdown",
   "metadata": {},
   "source": []
  }
 ],
 "metadata": {
  "kernelspec": {
   "display_name": "Python 3",
   "language": "python",
   "name": "python3"
  },
  "language_info": {
   "codemirror_mode": {
    "name": "ipython",
    "version": 3
   },
   "file_extension": ".py",
   "mimetype": "text/x-python",
   "name": "python",
   "nbconvert_exporter": "python",
   "pygments_lexer": "ipython3",
   "version": "3.11.9"
  }
 },
 "nbformat": 4,
 "nbformat_minor": 2
}
