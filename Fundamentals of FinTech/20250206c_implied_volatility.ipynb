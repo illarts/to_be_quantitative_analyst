{
 "cells": [
  {
   "cell_type": "markdown",
   "metadata": {},
   "source": [
    "# インプライドボラティリティ（Implied Volatility, IV）とは？\n",
    "\n",
    "インプライドボラティリティ（IV）は、**市場が予想する将来の価格変動の大きさ**を示す指標です。\n",
    "オプション価格に織り込まれた期待されるボラティリティであり、過去のデータから計算される**ヒストリカルボラティリティ（HV）**とは異なります。\n",
    "\n"
   ]
  },
  {
   "cell_type": "markdown",
   "metadata": {},
   "source": [
    "## IVの意味\n",
    "\n",
    "市場がどれだけ将来の価格変動を予測しているかを示す\n",
    "実際のボラティリティではなく、市場の期待値である\n",
    "オプションの市場価格から逆算して求める\n"
   ]
  },
  {
   "cell_type": "markdown",
   "metadata": {},
   "source": [
    "## 計算方法\n",
    "\n",
    "IVは ブラック・ショールズ・モデル（BSM） や バイナミアルツリーモデル などを用いて求めます。\n",
    "\n",
    "### ブラック・ショールズ方程式\n",
    "\n",
    "ヨーロピアン・コールオプションの価格 $C$ は、以下の式で与えられる：\n",
    "\n",
    "$\n",
    "C = S_0 N(d_1) - K e^{-rT} N(d_2)\n",
    "$\n",
    "\n",
    "ヨーロピアン・プットオプションの価格 \\(P\\) は、以下の式で与えられる：\n",
    "\n",
    "$\n",
    "P = K e^{-rT} N(-d_2) - S_0 N(-d_1)\n",
    "$\n",
    "\n",
    "ここで、\n",
    "\n",
    "$\n",
    "d_1 = \\frac{\\ln(S_0 / K) + (r + \\frac{1}{2} \\sigma^2) T}{\\sigma \\sqrt{T}}\n",
    "$\n",
    "\n",
    "$\n",
    "d_2 = d_1 - \\sigma \\sqrt{T}\n",
    "$\n",
    "\n",
    "### 変数の説明\n",
    "- $S_0$ ：現在の株価（原資産価格）\n",
    "- $K$ ：権利行使価格（行使価格）\n",
    "- $T$ ：満期までの時間（年）\n",
    "- $r$ ：無リスク金利（リスクフリーレート）\n",
    "- $\\sigma$ ：ボラティリティ（原資産の標準偏差）\n",
    "- $N(x)$ ：標準正規分布の累積分布関数（CDF）\n",
    "\n",
    "**この方程式を 市場のオプション価格を使って 逆算すると IV（σ） が求まります。**\n"
   ]
  },
  {
   "cell_type": "markdown",
   "metadata": {},
   "source": [
    "# IVの特徴\n",
    "\n",
    "✅ IVが高い → 市場がボラティリティの高まりを予測 \n",
    "\n",
    "✅ IVが低い → 市場が安定すると予測\n",
    "\n",
    "## 注：\n",
    "インプライドボラティリティ（IV）は、会社そのものではなく、その会社のオプションに対して計算されます。\n",
    "\n",
    "したがって、 「ある会社のインプライドボラティリティが高い」＝ その会社の証券のリスクが上がる という解釈は、完全には正しくありません。\n",
    "\n",
    "ただし、IVが高いということは、市場がその**会社の株価が大きく変動する可能性が高いと考えていること**を意味するので、リスクが上がる可能性はあります。\n",
    "\n",
    "- 💡 「会社のIVが高い」= その会社のオプション市場が「株価の大きな変動」を予測している\n",
    "- 💡 「IVが高い」= 必ずしもリスク（下落）とは限らず、上昇の可能性もある\n",
    "\n",
    "もし「会社のリスクが上がるかどうか」を判断したいなら、ヒストリカルボラティリティ（HV）やベータ値（β） など、他のリスク指標と組み合わせて分析するのがよいでしょう！\n",
    "\n",
    "## ボラティリティ・スマイル（Volatility Smile）\n",
    "\n",
    "- IVはアット・ザ・マネー（ATM） で低く、アウト・オブ・ザ・マネー（OTM） で高くなる傾向\n",
    "\n",
    "## IVと実際のボラティリティは一致しない\n",
    "\n",
    "- IVが高くても、実際には価格がほとんど動かないこともある（例：IVが上昇しても価格変動が小さい \"IV Crush\"）"
   ]
  },
  {
   "cell_type": "code",
   "execution_count": 16,
   "metadata": {},
   "outputs": [
    {
     "name": "stdout",
     "output_type": "stream",
     "text": [
      "インプライドボラティリティ: 54.84%\n"
     ]
    }
   ],
   "source": [
    "from scipy.stats import norm\n",
    "import numpy as np\n",
    "from scipy.optimize import bisect\n",
    "\n",
    "def black_scholes(S0, K, T, r, sigma, option_type=\"call\"):\n",
    "    \"\"\"ブラック・ショールズモデルでオプション価格を計算\"\"\"\n",
    "    d1 = (np.log(S0 / K) + (r + 0.5 * sigma ** 2) * T) / (sigma * np.sqrt(T))\n",
    "    d2 = d1 - sigma * np.sqrt(T)\n",
    "    \n",
    "    if option_type == \"call\":\n",
    "        price = S0 * norm.cdf(d1) - K * np.exp(-r * T) * norm.cdf(d2)\n",
    "    else:\n",
    "        price = K * np.exp(-r * T) * norm.cdf(-d2) - S0 * norm.cdf(-d1)\n",
    "    \n",
    "    return price\n",
    "\n",
    "def implied_volatility(market_price, S0, K, T, r, option_type=\"call\"):\n",
    "    \"\"\"市場価格からインプライドボラティリティを計算\"\"\"\n",
    "    def objective(sigma):\n",
    "        return black_scholes(S0, K, T, r, sigma, option_type) - market_price\n",
    "    \n",
    "    # 最小・最大のボラティリティでの価格\n",
    "    min_price = black_scholes(S0, K, T, r, 0.001, option_type)\n",
    "    max_price = black_scholes(S0, K, T, r, 5.0, option_type)\n",
    "    \n",
    "    # 市場価格が範囲外の場合は NaN を返す\n",
    "    if market_price < min_price or market_price > max_price:\n",
    "        print(f\"市場価格 {market_price} は {min_price:.2f} 〜 {max_price:.2f} の範囲外です。\")\n",
    "        return np.nan\n",
    "    \n",
    "    try:\n",
    "        iv = bisect(objective, 0.001, 5.0, xtol=1e-6)\n",
    "        return iv\n",
    "    except ValueError:\n",
    "        print(\"ボラティリティの求解に失敗しました。\")\n",
    "        return np.nan  # 解が見つからない場合\n",
    "\n",
    "# パラメータ設定\n",
    "S0 = 100    # 現在の株価\n",
    "K = 150     # 権利行使価格\n",
    "T = 1       # 満期 (年)\n",
    "r = 0.05    # リスクフリーレート\n",
    "market_price = 10.0  # 市場価格\n",
    "\n",
    "# インプライドボラティリティ計算\n",
    "iv = implied_volatility(market_price, S0, K, T, r, option_type=\"call\")\n",
    "if not np.isnan(iv):\n",
    "    print(f\"インプライドボラティリティ: {iv * 100:.2f}%\")\n"
   ]
  },
  {
   "cell_type": "code",
   "execution_count": 17,
   "metadata": {},
   "outputs": [
    {
     "name": "stdout",
     "output_type": "stream",
     "text": [
      "理論価格: 10.00\n",
      "市場価格: 10.00\n"
     ]
    }
   ],
   "source": [
    "\n",
    "# 理論価格をインプライドボラティリティを使って計算\n",
    "theoretical_price = black_scholes(S0, K, T, r, iv, option_type='call')\n",
    "\n",
    "# 市場価格と理論価格を比較\n",
    "print(f\"理論価格: {theoretical_price:.2f}\")\n",
    "print(f\"市場価格: {market_price:.2f}\")"
   ]
  },
  {
   "cell_type": "markdown",
   "metadata": {},
   "source": [
    "✅ まとめ\n",
    "- IV はブラック・ショールズ式を逆算して求める\n",
    "- 数値解法（scipy.optimize.bisect）で解く\n",
    "- IV を使えば、市場のボラティリティ予測やオプションの割高・割安を判断できる"
   ]
  },
  {
   "cell_type": "markdown",
   "metadata": {},
   "source": [
    "# 数値解法（Numerical Methods）とは\n",
    "\n",
    "解析的な方法で解けないまたは解きにくい問題を近似的に解くための数学的技法です。これには、方程式や微分方程式の数値的解法、最適化問題、積分の近似などが含まれます。特に金融工学や経済学において、数値解法は非常に重要であり、ブラック-ショールズ方程式やオプション価格の計算でよく使用されます。\n",
    "\n",
    "インプライドボラティリティ（Implied Volatility）は、オプション価格に基づいて計算されるボラティリティで、実際の市場で取引されているオプションの価格から逆算されます。具体的には、ブラック-ショールズモデルに基づいて、オプションの市場価格と理論価格（ブラック-ショールズモデルを使って計算された価格）の差を最小にするボラティリティを求めます。\n",
    "\n",
    "ブラック-ショールズ方程式を使ってオプションの理論価格を計算する場合、理論価格はインプライドボラティリティに依存しますが、このボラティリティは解析的に求めることができません。したがって、インプライドボラティリティを求めるために数値解法が用いられます。\n",
    "\n",
    "たとえば、ブラック-ショールズ方程式において、オプション価格とボラティリティの関係は非線形です。これを解くためには、数値的な方法（ニュートン法や二分法など）を用いて、特定のオプション価格に対するボラティリティを反復的に求めることになります。インプライドボラティリティは、次のようにして求めます：\n",
    "\n",
    "オプション市場での実際の取引価格を取得。\n",
    "ブラック-ショールズ方程式を用いて理論価格を計算。\n",
    "理論価格と市場価格の差を最小化するボラティリティを反復的に求める（数値解法を使用）。\n",
    "このプロセスは、解析的な解法が存在しないため、数値解法が非常に重要になります。"
   ]
  },
  {
   "cell_type": "markdown",
   "metadata": {},
   "source": [
    "このコードは、ブラック-ショールズ方程式を用いてオプションの理論価格を計算し、実際の市場価格と比較することで、インプライドボラティリティ（IV）を求めるためのものです。その意義は以下の通りです。\n",
    "\n",
    "1. オプション価格の理論的な根拠を提供\n",
    "\n",
    "ブラック-ショールズモデルは、オプション価格を決定するための理論的枠組みを提供します。市場で取引されるオプション価格は、実際には供給と需要によって決まりますが、このコードでは、理論的にどのような価格になるべきかを計算しています。これにより、オプションが市場でどれほど「適正」に取引されているかを分析することができます。\n",
    "\n",
    "2. インプライドボラティリティ（IV）の求解\n",
    "\n",
    "インプライドボラティリティ（IV）は、オプション市場の最も重要なパラメータの1つで、オプションの理論価格が市場価格と一致するようなボラティリティです。通常、IVは市場価格から逆算する必要があり、解析的な解法は存在しません。そのため、数値解法（この場合、fsolve）を用いてIVを求めることになります。このプロセスは、ブラック-ショールズ方程式が提供する理論価格と市場価格のギャップを最小化するボラティリティを見つけることを意味します。\n",
    "\n",
    "3. 市場の過小評価・過大評価を分析\n",
    "   \n",
    "インプライドボラティリティを求めることで、市場がオプションのリスクをどれほど評価しているかが明らかになります。具体的には：\n",
    "\n",
    "- 市場価格が理論価格より高い場合：オプションが過大評価されている可能性があり、投資家は将来の価格変動（ボラティリティ）が非常に大きいと予測しているか、需要が過剰であることを示唆します。\n",
    "  \n",
    "- 市場価格が理論価格より低い場合：オプションが過小評価されている可能性があり、投資家は将来の価格変動を過小評価しているか、市場で取引されている価格が低すぎることを示唆します。\n",
    "このコードを使って、実際に取引されているオプションの価格と理論的に計算された価格を比較し、その差が意味するところを分析できます。\n",
    "\n",
    "4. オプション市場の効率性の評価\n",
    "\n",
    "インプライドボラティリティの計算を通じて、オプション市場がどれほど効率的かを評価することができます。理論価格と市場価格に大きな差がある場合、市場は効率的でないと考えられ、そのギャップを取引機会として利用できる場合があります。特に、オプション取引におけるアービトラージ（価格差を利用した無リスク取引）の可能性を分析する際に有用です。\n",
    "\n",
    "5. リスク管理とポートフォリオ最適化\n",
    "\n",
    "インプライドボラティリティはオプション取引におけるリスク管理やポートフォリオ最適化に役立ちます。ボラティリティが高ければ、オプションのリスクも大きくなるため、投資家はそのリスクに応じたポートフォリオの調整を行います。IVを正確に求めることで、オプションの価格とリスクの関係をより深く理解でき、効果的なヘッジ戦略を立てることが可能になります。\n",
    "\n",
    "6. オプション取引における意思決定をサポート\n",
    "\n",
    "実際のオプション取引において、このコードを使用することで、投資家やトレーダーは市場での取引判断をより明確に行うことができます。インプライドボラティリティを求めることで、市場がどれほどオプションに対するボラティリティを評価しているかを理解し、それに基づいた戦略（例えば、売買タイミングの判断）を構築する手助けとなります。"
   ]
  },
  {
   "cell_type": "markdown",
   "metadata": {},
   "source": [
    "# 20250206に更新"
   ]
  },
  {
   "cell_type": "code",
   "execution_count": 7,
   "metadata": {},
   "outputs": [
    {
     "name": "stdout",
     "output_type": "stream",
     "text": [
      "銘柄: AAPL\n",
      "株価: 232.47, 権利行使価格: 235.0, 市場価格: 1.0\n",
      "インプライドボラティリティ: 7.30%\n"
     ]
    }
   ],
   "source": [
    "import yfinance as yf\n",
    "import numpy as np\n",
    "from scipy.stats import norm\n",
    "from scipy.optimize import brentq\n",
    "\n",
    "# ブラック・ショールズ・モデル（Black-Scholes Model）\n",
    "def black_scholes(S, K, T, r, sigma, option_type=\"c\"):\n",
    "    \"\"\" ブラック・ショールズ式でオプション価格を計算 \"\"\"\n",
    "    d1 = (np.log(S / K) + (r + 0.5 * sigma ** 2) * T) / (sigma * np.sqrt(T))\n",
    "    d2 = d1 - sigma * np.sqrt(T)\n",
    "    \n",
    "    if option_type == \"c\":  # コールオプション\n",
    "        price = S * norm.cdf(d1) - K * np.exp(-r * T) * norm.cdf(d2)\n",
    "    elif option_type == \"p\":  # プットオプション\n",
    "        price = K * np.exp(-r * T) * norm.cdf(-d2) - S * norm.cdf(-d1)\n",
    "    else:\n",
    "        raise ValueError(\"option_type must be 'c' (call) or 'p' (put)\")\n",
    "    \n",
    "    return price\n",
    "\n",
    "# インプライドボラティリティ（IV）を求める関数\n",
    "def implied_volatility(market_price, S, K, T, r, option_type=\"c\"):\n",
    "    \"\"\" オプション市場価格とブラック・ショールズ価格を一致させるボラティリティを求める \"\"\"\n",
    "    try:\n",
    "        return brentq(lambda sigma: black_scholes(S, K, T, r, sigma, option_type) - market_price,\n",
    "                      0.01, 3.0)  # 初期範囲を1%～300%に設定\n",
    "    except ValueError:\n",
    "        return np.nan  # 計算できない場合はNaNを返す\n",
    "\n",
    "# 取得する銘柄\n",
    "ticker = \"AAPL\"\n",
    "\n",
    "# 株価データの取得\n",
    "stock = yf.Ticker(ticker)\n",
    "stock_price = stock.history(period=\"1d\")[\"Close\"].iloc[-1]\n",
    "\n",
    "# オプションデータの取得（直近の満期日を選択）\n",
    "expiration = stock.options[0]\n",
    "opt_chain = stock.option_chain(expiration)\n",
    "calls = opt_chain.calls  # コールオプション\n",
    "puts = opt_chain.puts  # プットオプション\n",
    "\n",
    "# 最も取引が活発なコールオプションを取得\n",
    "option = calls.sort_values(\"volume\", ascending=False).iloc[0]\n",
    "strike = option[\"strike\"]\n",
    "market_price = option[\"lastPrice\"]\n",
    "T = 30 / 365  # 満期までの日数（30日と仮定）\n",
    "r = 0.01  # 無リスク金利（1%と仮定）\n",
    "\n",
    "# インプライドボラティリティ（IV）を計算\n",
    "iv = implied_volatility(market_price, stock_price, strike, T, r, \"c\")\n",
    "\n",
    "print(f\"銘柄: {ticker}\")\n",
    "print(f\"株価: {stock_price:.2f}, 権利行使価格: {strike}, 市場価格: {market_price}\")\n",
    "print(f\"インプライドボラティリティ: {iv:.2%}\")\n"
   ]
  },
  {
   "cell_type": "markdown",
   "metadata": {},
   "source": [
    "# トレードでの活用\n",
    "\n",
    "🎯 オプション取引\n",
    "\n",
    "- IVが高いとき → オプション売り（割高だから）\n",
    "- IVが低いとき → オプション買い（割安だから）\n",
    "\n",
    "📊 ボラティリティインデックス（VIX）\n",
    "\n",
    "- VIX は S&P500のオプションのIVを元に計算される指数\n",
    "- **\"恐怖指数\"** とも呼ばれ、IVが高まると市場のリスクが増加していると判断される"
   ]
  },
  {
   "cell_type": "markdown",
   "metadata": {},
   "source": [
    "# VIXの計算手順\n",
    "1. S&P 500の過去の価格データを取得\n",
    "2. 日次リターンを計算\n",
    "3. 標準偏差を求め、年率換算\n",
    "4. VIXとして出力"
   ]
  },
  {
   "cell_type": "code",
   "execution_count": 8,
   "metadata": {},
   "outputs": [
    {
     "name": "stderr",
     "output_type": "stream",
     "text": [
      "[*********************100%***********************]  1 of 1 completed"
     ]
    },
    {
     "name": "stdout",
     "output_type": "stream",
     "text": [
      "推定VIX（ヒストリカルボラティリティベース）: 13.07\n"
     ]
    },
    {
     "name": "stderr",
     "output_type": "stream",
     "text": [
      "\n"
     ]
    }
   ],
   "source": [
    "import numpy as np\n",
    "import pandas as pd\n",
    "import yfinance as yf\n",
    "\n",
    "# S&P 500のデータを取得\n",
    "ticker = \"^GSPC\"  # S&P 500のシンボル\n",
    "data = yf.download(ticker, start=\"2023-01-01\", end=\"2024-01-01\")\n",
    "\n",
    "# 終値を使用\n",
    "data[\"Return\"] = np.log(data[\"Close\"] / data[\"Close\"].shift(1))\n",
    "\n",
    "# ボラティリティ（標準偏差）を計算（年率換算: 252取引日ベース）\n",
    "hv = np.std(data[\"Return\"].dropna()) * np.sqrt(252) * 100  # VIXはパーセンテージ表記\n",
    "\n",
    "print(f\"推定VIX（ヒストリカルボラティリティベース）: {hv:.2f}\")\n",
    "\n"
   ]
  },
  {
   "cell_type": "markdown",
   "metadata": {},
   "source": [
    "# 本格的なVIXの計算\n",
    "\n",
    "**上記の恐怖指数は簡易的なものであり、本来のVIX計算には、以下の手順が必要**です：\n",
    "\n",
    "1. OTM（アウト・オブ・ザ・マネー）オプションのインプライドボラティリティを収集\n",
    "2. 加重平均でボラティリティを算出\n",
    "3. 30日間のボラティリティを年率換算\n",
    "\n",
    "この計算には、yfinance ではなく CBOE のオプション価格データが必要になります。もし本格的にVIXを計算したい場合は、CBOEのデータAPI や quandl を使う方法も検討してください。"
   ]
  }
 ],
 "metadata": {
  "kernelspec": {
   "display_name": "Python 3",
   "language": "python",
   "name": "python3"
  },
  "language_info": {
   "codemirror_mode": {
    "name": "ipython",
    "version": 3
   },
   "file_extension": ".py",
   "mimetype": "text/x-python",
   "name": "python",
   "nbconvert_exporter": "python",
   "pygments_lexer": "ipython3",
   "version": "3.11.9"
  }
 },
 "nbformat": 4,
 "nbformat_minor": 2
}
