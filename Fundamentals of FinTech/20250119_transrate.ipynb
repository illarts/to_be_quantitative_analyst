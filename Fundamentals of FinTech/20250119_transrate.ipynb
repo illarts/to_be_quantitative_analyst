{
 "cells": [
  {
   "cell_type": "markdown",
   "metadata": {},
   "source": [
    "反省\n",
    "    翻訳の精度が良くない。\n",
    "    "
   ]
  },
  {
   "cell_type": "markdown",
   "metadata": {},
   "source": [
    "名前\n",
    "    らくらく翻訳機\n",
    "\n",
    "目的・背景\n",
    "    GitHubで入手したコードの説明を毎回翻訳機にかけてコピペするのを避けるため\n",
    "\n",
    "想定する利用者や対象\n",
    "    自分自身\n",
    "\n",
    "実現する機能の簡単な説明\n",
    "    .ipynbのファイルを読み込むと、マークダウンに書いてある内容を日本語に訳してくれる\n"
   ]
  },
  {
   "cell_type": "code",
   "execution_count": 6,
   "metadata": {},
   "outputs": [
    {
     "name": "stdout",
     "output_type": "stream",
     "text": [
      "Translated notebook saved as C:\\Users\\20222305\\ILLARTS_Works\\Python\\Python_for_Finance_2ed\\code\\ch01\\01_why_python_ja2.ipynb\n"
     ]
    }
   ],
   "source": [
    "import json\n",
    "from googletrans import Translator\n",
    "\n",
    "# .ipynb ファイルの読み込み\n",
    "input_file = r\"C:\\Users\\20222305\\ILLARTS_Works\\Python\\Python_for_Finance_2ed\\code\\ch01\\01_why_python.ipynb\"  # 元のファイル名\n",
    "output_file = r\"C:\\Users\\20222305\\ILLARTS_Works\\Python\\Python_for_Finance_2ed\\code\\ch01\\01_why_python_ja2.ipynb\"  # 翻訳後のファイル名\n",
    "\n",
    "# 翻訳用のライブラリを初期化\n",
    "translator = Translator()\n",
    "\n",
    "# ファイルを開く\n",
    "with open(input_file, 'r', encoding='utf-8') as f:\n",
    "    notebook_data = json.load(f)\n",
    "\n",
    "# マークダウンセルを翻訳\n",
    "for cell in notebook_data.get('cells', []):\n",
    "    if cell.get('cell_type') == 'markdown':\n",
    "        # 各行を翻訳\n",
    "        translated_lines = []\n",
    "        for line in cell.get('source', []):\n",
    "            # 英語を日本語に翻訳\n",
    "            translated_text = translator.translate(line, src='en', dest='ja').text\n",
    "            translated_lines.append(translated_text)\n",
    "        # 翻訳したテキストをマークダウンセルに置き換え\n",
    "        cell['source'] = translated_lines\n",
    "\n",
    "# 新しい .ipynb ファイルとして保存\n",
    "with open(output_file, 'w', encoding='utf-8') as f:\n",
    "    json.dump(notebook_data, f, ensure_ascii=False, indent=2)\n",
    "\n",
    "print(f\"Translated notebook saved as {output_file}\")\n"
   ]
  }
 ],
 "metadata": {
  "kernelspec": {
   "display_name": "Python 3",
   "language": "python",
   "name": "python3"
  },
  "language_info": {
   "codemirror_mode": {
    "name": "ipython",
    "version": 3
   },
   "file_extension": ".py",
   "mimetype": "text/x-python",
   "name": "python",
   "nbconvert_exporter": "python",
   "pygments_lexer": "ipython3",
   "version": "3.11.9"
  }
 },
 "nbformat": 4,
 "nbformat_minor": 2
}
